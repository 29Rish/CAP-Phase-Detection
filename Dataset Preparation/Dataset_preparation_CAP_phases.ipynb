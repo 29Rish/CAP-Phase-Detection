{
  "nbformat": 4,
  "nbformat_minor": 0,
  "metadata": {
    "colab": {
      "name": "Dataset preparation CAP phases.ipynb",
      "provenance": [],
      "toc_visible": true
    },
    "kernelspec": {
      "name": "python3",
      "display_name": "Python 3"
    },
    "language_info": {
      "name": "python"
    }
  },
  "cells": [
    {
      "cell_type": "markdown",
      "source": [
        "# Dataset preparation for CAP classification \n",
        "- Authors - Shruti Murarka, Aditya Wadichar"
      ],
      "metadata": {
        "id": "IgcsIhtFogcx"
      }
    },
    {
      "cell_type": "code",
      "execution_count": 1,
      "metadata": {
        "colab": {
          "base_uri": "https://localhost:8080/"
        },
        "id": "Yg-04k0EQRPS",
        "outputId": "417ab5e6-cdaa-4dcd-8137-0fac7f869c2a"
      },
      "outputs": [
        {
          "output_type": "stream",
          "name": "stdout",
          "text": [
            "Mounted at /content/drive\n"
          ]
        }
      ],
      "source": [
        "from google.colab import drive\n",
        "drive.mount('/content/drive')"
      ]
    },
    {
      "cell_type": "code",
      "source": [
        "import csv\n",
        "import pandas as pd\n",
        "import scipy.io\n",
        "import numpy as np\n",
        "import h5py"
      ],
      "metadata": {
        "id": "GXvYv4-hTKAy"
      },
      "execution_count": 2,
      "outputs": []
    },
    {
      "cell_type": "code",
      "source": [
        "\n",
        "\n",
        "%load_ext watermark\n",
        "\n",
        "%watermark --iversions "
      ],
      "metadata": {
        "colab": {
          "base_uri": "https://localhost:8080/"
        },
        "id": "bCzRxD-mbl01",
        "outputId": "ab9c43e5-94ad-4108-93db-6b57864cb087"
      },
      "execution_count": 6,
      "outputs": [
        {
          "output_type": "stream",
          "name": "stdout",
          "text": [
            "The watermark extension is already loaded. To reload it, use:\n",
            "  %reload_ext watermark\n",
            "google : 2.0.3\n",
            "csv    : 1.0\n",
            "pandas : 1.3.5\n",
            "h5py   : 3.1.0\n",
            "scipy  : 1.4.1\n",
            "IPython: 5.5.0\n",
            "numpy  : 1.21.6\n",
            "\n"
          ]
        }
      ]
    },
    {
      "cell_type": "markdown",
      "source": [
        "## Healthy"
      ],
      "metadata": {
        "id": "JxDX-HiRUyGf"
      }
    },
    {
      "cell_type": "code",
      "source": [
        "# combine\n",
        "healthy_string=['1', '2', '3', '5', '10', '11']\n",
        "phase=['A1', 'A2', 'A3', 'B']\n",
        "healthy=[]\n",
        "for i in healthy_string:\n",
        "  for j in phase:\n",
        "    path='/content/drive/MyDrive/FYP/A1_A2_A3_B_data/Data/DATA_A1_A2_A3_B/n' + i + '_' + j + '_C4A1.mat'\n",
        "    temp=scipy.io.loadmat(path)\n",
        "    if j=='B':\n",
        "      ke='Data_NA'\n",
        "    else:\n",
        "      ke='Data_' + j\n",
        "    temp2=temp[ke].tolist()\n",
        "    healthy=healthy+temp2\n",
        "healthy=np.array(healthy)\n",
        "\n",
        "np.savetxt('/content/drive/MyDrive/FYP/A1_A2_A3_B_data/Data_combine/healthy.csv', healthy, delimiter=',')"
      ],
      "metadata": {
        "id": "i5dl5377TkfT"
      },
      "execution_count": null,
      "outputs": []
    },
    {
      "cell_type": "code",
      "source": [
        "# balance\n",
        "healthy= np.loadtxt('/content/drive/MyDrive/FYP/A1_A2_A3_B_data/Data_combine/healthy.csv', delimiter=',')\n",
        "\n",
        "a=np.shape(np.where(healthy[:,1024]==0))[1]\n",
        "b=np.shape(np.where(healthy[:,1024]==1))[1]\n",
        "c=np.shape(np.where(healthy[:,1024]==2))[1]\n",
        "d=np.shape(np.where(healthy[:,1024]==3))[1]\n",
        "m=min(a,b,c,d)\n",
        "\n",
        "bal_all = np.zeros([m*6,1025],dtype=float)\n",
        "rows = np.where(healthy[:,1024]==0)\n",
        "bal_all[0:m*3,0:1024] = healthy[rows][0:m*3,0:1024]\n",
        "rows = np.where(healthy[:,1024]==1)\n",
        "bal_all[m*3:m*4,0:1024] = healthy[rows][0:m,0:1024]\n",
        "rows = np.where(healthy[:,1024]==2)\n",
        "bal_all[m*4:m*5,0:1024] = healthy[rows][0:m,0:1024]\n",
        "rows = np.where(healthy[:,1024]==3)\n",
        "bal_all[m*5:m*6,0:1024] = healthy[rows][0:m,0:1024]\n",
        "bal_all[3*m:6*m,-1]=1\n",
        "\n",
        "np.savetxt('/content/drive/MyDrive/FYP/A1_A2_A3_B_data/Data_csv/bal_healthy.csv', bal_all, delimiter=',')"
      ],
      "metadata": {
        "id": "PNl52D4Jeclu"
      },
      "execution_count": null,
      "outputs": []
    },
    {
      "cell_type": "markdown",
      "source": [
        "## Insomnia"
      ],
      "metadata": {
        "id": "_T68-l19U142"
      }
    },
    {
      "cell_type": "code",
      "source": [
        "# combine\n",
        "ins_string=['4', '5', '6', '7', '8', '9']\n",
        "phase=['A1', 'A2', 'A3', 'B']\n",
        "ins=[]\n",
        "for i in ins_string:\n",
        "  for j in phase:\n",
        "    path='/content/drive/MyDrive/FYP/A1_A2_A3_B_data/Data/ins' + i + '_' + j + '_C4A1.mat'\n",
        "    temp=scipy.io.loadmat(path)\n",
        "    if j=='B':\n",
        "      ke='Data_NA'\n",
        "    else:\n",
        "      ke='Data_' + j\n",
        "    temp2=temp[ke].tolist()\n",
        "    ins=ins+temp2\n",
        "ins=np.array(ins)\n",
        "np.savetxt('/content/drive/MyDrive/FYP/A1_A2_A3_B_data/Data_combine/ins.csv', ins, delimiter=',')"
      ],
      "metadata": {
        "id": "1hpURSIITrez"
      },
      "execution_count": null,
      "outputs": []
    },
    {
      "cell_type": "code",
      "source": [
        "# balance\n",
        "ins= np.loadtxt('/content/drive/MyDrive/FYP/A1_A2_A3_B_data/Data_combine/ins.csv', delimiter=',')\n",
        "\n",
        "a=np.shape(np.where(ins[:,1024]==0))[1]\n",
        "b=np.shape(np.where(ins[:,1024]==1))[1]\n",
        "c=np.shape(np.where(ins[:,1024]==2))[1]\n",
        "d=np.shape(np.where(ins[:,1024]==3))[1]\n",
        "m=min(a,b,c,d)\n",
        "\n",
        "bal_all = np.zeros([m*6,1025],dtype=float)\n",
        "rows = np.where(ins[:,1024]==0)\n",
        "bal_all[0:m*3,0:1024] = ins[rows][0:m*3,0:1024]\n",
        "rows = np.where(ins[:,1024]==1)\n",
        "bal_all[m*3:m*4,0:1024] = ins[rows][0:m,0:1024]\n",
        "rows = np.where(ins[:,1024]==2)\n",
        "bal_all[m*4:m*5,0:1024] = ins[rows][0:m,0:1024]\n",
        "rows = np.where(ins[:,1024]==3)\n",
        "bal_all[m*5:m*6,0:1024] = ins[rows][0:m,0:1024]\n",
        "bal_all[3*m:6*m,-1]=1\n",
        "\n",
        "np.savetxt('/content/drive/MyDrive/FYP/A1_A2_A3_B_data/Data_csv/bal_ins.csv', bal_all, delimiter=',')"
      ],
      "metadata": {
        "id": "5PUDTZU7g34Q"
      },
      "execution_count": null,
      "outputs": []
    },
    {
      "cell_type": "markdown",
      "source": [
        "## RBD"
      ],
      "metadata": {
        "id": "79jimxYRVzD4"
      }
    },
    {
      "cell_type": "code",
      "source": [
        "# combine_1\n",
        "rbd_string=['1', '2', '3','4', '5','6','7','8','9']\n",
        "phase=['A1', 'A2', 'A3', 'B']\n",
        "rbd=[]\n",
        "for i in rbd_string:\n",
        "  for j in phase:\n",
        "    path='/content/drive/MyDrive/FYP/A1_A2_A3_B_data/Data/rbd' + i + '_' + j + '_C4A1.mat'\n",
        "    temp=scipy.io.loadmat(path)\n",
        "    if j=='B':\n",
        "      ke='Data_NA'\n",
        "    else:\n",
        "      ke='Data_' + j\n",
        "    temp2=temp[ke].tolist()\n",
        "    rbd+=temp2\n",
        "rbd=np.array(rbd)\n",
        "np.savetxt('/content/drive/MyDrive/FYP/A1_A2_A3_B_data/Data_combine/rbd1.csv', rbd, delimiter=',')"
      ],
      "metadata": {
        "id": "MDweA9DcVz9l"
      },
      "execution_count": null,
      "outputs": []
    },
    {
      "cell_type": "code",
      "source": [
        "# balance_1\n",
        "rbd= np.loadtxt('/content/drive/MyDrive/FYP/A1_A2_A3_B_data/Data_combine/rbd1.csv', delimiter=',')\n",
        "\n",
        "a=np.shape(np.where(rbd[:,1024]==0))[1]\n",
        "b=np.shape(np.where(rbd[:,1024]==1))[1]\n",
        "c=np.shape(np.where(rbd[:,1024]==2))[1]\n",
        "d=np.shape(np.where(rbd[:,1024]==3))[1]\n",
        "m=min(a,b,c,d)\n",
        "\n",
        "bal_all = np.zeros([m*6,1025],dtype=float)\n",
        "rows = np.where(rbd[:,1024]==0)\n",
        "bal_all[0:m*3,0:1024] = rbd[rows][0:m*3,0:1024]\n",
        "rows = np.where(rbd[:,1024]==1)\n",
        "bal_all[m*3:m*4,0:1024] = rbd[rows][0:m,0:1024]\n",
        "rows = np.where(rbd[:,1024]==2)\n",
        "bal_all[m*4:m*5,0:1024] = rbd[rows][0:m,0:1024]\n",
        "rows = np.where(rbd[:,1024]==3)\n",
        "bal_all[m*5:m*6,0:1024] = rbd[rows][0:m,0:1024]\n",
        "bal_all[3*m:6*m,-1]=1\n",
        "\n",
        "np.savetxt('/content/drive/MyDrive/FYP/A1_A2_A3_B_data/Data_csv/bal_rbd1.csv', bal_all, delimiter=',')"
      ],
      "metadata": {
        "id": "EOa_fXbBi3BV"
      },
      "execution_count": null,
      "outputs": []
    },
    {
      "cell_type": "code",
      "source": [
        "# Combine_2\n",
        "rbd_string=['10', '11','12','13','14','15','16']\n",
        "phase=['A1', 'A2', 'A3', 'B']\n",
        "rbd=[]\n",
        "for i in rbd_string:\n",
        "  for j in phase:\n",
        "    path='/content/drive/MyDrive/FYP/A1_A2_A3_B_data/Data/rbd' + i + '_' + j + '_C4A1.mat'\n",
        "    temp=scipy.io.loadmat(path)\n",
        "    if j=='B':\n",
        "      ke='Data_NA'\n",
        "    else:\n",
        "      ke='Data_' + j\n",
        "    temp2=temp[ke].tolist()\n",
        "    rbd+=temp2\n",
        "rbd=np.array(rbd)\n",
        "np.savetxt('/content/drive/MyDrive/FYP/A1_A2_A3_B_data/Data_combine/rbd2.csv', rbd, delimiter=',')"
      ],
      "metadata": {
        "id": "doiV52r9V1c9"
      },
      "execution_count": null,
      "outputs": []
    },
    {
      "cell_type": "code",
      "source": [
        "# balance_2\n",
        "rbd= np.loadtxt('/content/drive/MyDrive/FYP/A1_A2_A3_B_data/Data_combine/rbd2.csv', delimiter=',')\n",
        "\n",
        "a=np.shape(np.where(rbd[:,1024]==0))[1]\n",
        "b=np.shape(np.where(rbd[:,1024]==1))[1]\n",
        "c=np.shape(np.where(rbd[:,1024]==2))[1]\n",
        "d=np.shape(np.where(rbd[:,1024]==3))[1]\n",
        "m=min(a,b,c,d)\n",
        "\n",
        "bal_all = np.zeros([m*6,1025],dtype=float)\n",
        "rows = np.where(rbd[:,1024]==0)\n",
        "bal_all[0:m*3,0:1024] = rbd[rows][0:m*3,0:1024]\n",
        "rows = np.where(rbd[:,1024]==1)\n",
        "bal_all[m*3:m*4,0:1024] = rbd[rows][0:m,0:1024]\n",
        "rows = np.where(rbd[:,1024]==2)\n",
        "bal_all[m*4:m*5,0:1024] = rbd[rows][0:m,0:1024]\n",
        "rows = np.where(rbd[:,1024]==3)\n",
        "bal_all[m*5:m*6,0:1024] = rbd[rows][0:m,0:1024]\n",
        "bal_all[3*m:6*m,-1]=1\n",
        "\n",
        "np.savetxt('/content/drive/MyDrive/FYP/A1_A2_A3_B_data/Data_csv/bal_rbd2.csv', bal_all, delimiter=',')"
      ],
      "metadata": {
        "id": "QsrzpCDXjRfX"
      },
      "execution_count": null,
      "outputs": []
    },
    {
      "cell_type": "code",
      "source": [
        "# combine_3\n",
        "rbd_string=['17','18','19', '20','21','22']\n",
        "phase=['A1', 'A2', 'A3', 'B']\n",
        "rbd=[]\n",
        "for i in rbd_string:\n",
        "  print(i)\n",
        "  for j in phase:\n",
        "    path='/content/drive/MyDrive/FYP/A1_A2_A3_B_data/Data/rbd' + i + '_' + j + '_C4A1.mat'\n",
        "    temp=scipy.io.loadmat(path)\n",
        "    if j=='B':\n",
        "      ke='Data_NA'\n",
        "    else:\n",
        "      ke='Data_' + j\n",
        "    temp2=temp[ke].tolist()\n",
        "    rbd+=temp2\n",
        "rbd=np.array(rbd)\n",
        "np.savetxt('/content/drive/MyDrive/FYP/A1_A2_A3_B_data/Data_combine/rbd3.csv', rbd, delimiter=',')"
      ],
      "metadata": {
        "id": "xWhBUrXrV30n",
        "colab": {
          "base_uri": "https://localhost:8080/"
        },
        "outputId": "d7baaa1d-a9d1-4f97-8f6f-2154231c06a3"
      },
      "execution_count": null,
      "outputs": [
        {
          "output_type": "stream",
          "name": "stdout",
          "text": [
            "17\n",
            "18\n",
            "19\n",
            "20\n",
            "21\n",
            "22\n"
          ]
        }
      ]
    },
    {
      "cell_type": "code",
      "source": [
        "# balance_3\n",
        "rbd= np.loadtxt('/content/drive/MyDrive/FYP/A1_A2_A3_B_data/Data_combine/rbd3.csv', delimiter=',')\n",
        "\n",
        "a=np.shape(np.where(rbd[:,1024]==0))[1]\n",
        "b=np.shape(np.where(rbd[:,1024]==1))[1]\n",
        "c=np.shape(np.where(rbd[:,1024]==2))[1]\n",
        "d=np.shape(np.where(rbd[:,1024]==3))[1]\n",
        "m=min(a,b,c,d)\n",
        "\n",
        "bal_all = np.zeros([m*6,1025],dtype=float)\n",
        "rows = np.where(rbd[:,1024]==0)\n",
        "bal_all[0:m*3,0:1024] = rbd[rows][0:m*3,0:1024]\n",
        "rows = np.where(rbd[:,1024]==1)\n",
        "bal_all[m*3:m*4,0:1024] = rbd[rows][0:m,0:1024]\n",
        "rows = np.where(rbd[:,1024]==2)\n",
        "bal_all[m*4:m*5,0:1024] = rbd[rows][0:m,0:1024]\n",
        "rows = np.where(rbd[:,1024]==3)\n",
        "bal_all[m*5:m*6,0:1024] = rbd[rows][0:m,0:1024]\n",
        "bal_all[3*m:6*m,-1]=1\n",
        "\n",
        "np.savetxt('/content/drive/MyDrive/FYP/A1_A2_A3_B_data/Data_csv/bal_rbd3.csv', bal_all, delimiter=',')"
      ],
      "metadata": {
        "id": "Y0n5ii3wjZsm"
      },
      "execution_count": null,
      "outputs": []
    },
    {
      "cell_type": "code",
      "source": [
        "# overall combine & balanced\n",
        "rbd1=np.loadtxt('/content/drive/MyDrive/FYP/A1_A2_A3_B_data/Data_csv/bal_rbd1.csv', delimiter=',')\n",
        "rbd2=np.loadtxt('/content/drive/MyDrive/FYP/A1_A2_A3_B_data/Data_csv/bal_rbd2.csv', delimiter=',')\n",
        "rbd3=np.loadtxt('/content/drive/MyDrive/FYP/A1_A2_A3_B_data/Data_csv/bal_rbd3.csv', delimiter=',')\n",
        "\n",
        "s1=np.shape(rbd1)[0]\n",
        "s2=np.shape(rbd2)[0]\n",
        "s3=np.shape(rbd3)[0]\n",
        "\n",
        "rbd=np.empty([s1+s2+s3,1025],dtype=float)\n",
        "rbd[0:s1,:]=rbd1\n",
        "rbd[s1:s1+s2,:]=rbd2\n",
        "rbd[s1+s2:s1+s2+s3,:]=rbd3\n",
        "\n",
        "np.savetxt('/content/drive/MyDrive/FYP/A1_A2_A3_B_data/Data_csv/bal_rbs.csv', rbd, delimiter=',')"
      ],
      "metadata": {
        "id": "CL1wxjxhV96M"
      },
      "execution_count": null,
      "outputs": []
    },
    {
      "cell_type": "markdown",
      "source": [
        "## PLM"
      ],
      "metadata": {
        "id": "a_VeItL9YTJ8"
      }
    },
    {
      "cell_type": "code",
      "source": [
        "# combine\n",
        "plm_string=[ '2', '4', '5','6','7','8','9', '10']\n",
        "phase=['A1', 'A2', 'A3', 'B']\n",
        "plm=[]\n",
        "for i in plm_string:\n",
        "  for j in phase:\n",
        "    path='/content/drive/MyDrive/FYP/A1_A2_A3_B_data/Data/plm' + i + '_' + j + '_C4A1.mat'\n",
        "    temp=scipy.io.loadmat(path)\n",
        "    if j=='B':\n",
        "      ke='Data_NA'\n",
        "    else:\n",
        "      ke='Data_' + j\n",
        "    temp2=temp[ke].tolist()\n",
        "    plm=plm+temp2\n",
        "plm=np.array(plm)\n",
        "np.savetxt('/content/drive/MyDrive/FYP/A1_A2_A3_B_data/Data_combine/plm.csv', plm, delimiter=',')"
      ],
      "metadata": {
        "id": "GGQDEcLmWGSC"
      },
      "execution_count": null,
      "outputs": []
    },
    {
      "cell_type": "code",
      "source": [
        "# balance\n",
        "plm= np.loadtxt('/content/drive/MyDrive/FYP/A1_A2_A3_B_data/Data_combine/plm.csv', delimiter=',')\n",
        "\n",
        "a=np.shape(np.where(plm[:,1024]==0))[1]\n",
        "b=np.shape(np.where(plm[:,1024]==1))[1]\n",
        "c=np.shape(np.where(plm[:,1024]==2))[1]\n",
        "d=np.shape(np.where(plm[:,1024]==3))[1]\n",
        "m=min(a,b,c,d)\n",
        "\n",
        "bal_all = np.zeros([m*6,1025],dtype=float)\n",
        "rows = np.where(plm[:,1024]==0)\n",
        "bal_all[0:m*3,0:1024] = plm[rows][0:m*3,0:1024]\n",
        "rows = np.where(plm[:,1024]==1)\n",
        "bal_all[m*3:m*4,0:1024] = plm[rows][0:m,0:1024]\n",
        "rows = np.where(plm[:,1024]==2)\n",
        "bal_all[m*4:m*5,0:1024] = plm[rows][0:m,0:1024]\n",
        "rows = np.where(plm[:,1024]==3)\n",
        "bal_all[m*5:m*6,0:1024] = plm[rows][0:m,0:1024]\n",
        "bal_all[3*m:6*m,-1]=1\n",
        "\n",
        "np.savetxt('/content/drive/MyDrive/FYP/A1_A2_A3_B_data/Data_csv/bal_plm.csv', bal_all, delimiter=',')"
      ],
      "metadata": {
        "id": "rU-hni5mhXEe"
      },
      "execution_count": null,
      "outputs": []
    },
    {
      "cell_type": "markdown",
      "source": [
        "## NFLE"
      ],
      "metadata": {
        "id": "uD-6dVQaYWQ8"
      }
    },
    {
      "cell_type": "code",
      "source": [
        "# combine_1\n",
        "nfle_string=[ '1','2', '3','4', '5','7','9']\n",
        "phase=['A1', 'A2', 'A3', 'B']\n",
        "nfle=[]\n",
        "for i in nfle_string:\n",
        "  for j in phase:\n",
        "    path='/content/drive/MyDrive/FYP/A1_A2_A3_B_data/Data/nfle' + i + '_' + j + '_C4A1.mat'\n",
        "    temp=scipy.io.loadmat(path)\n",
        "    if j=='B':\n",
        "      ke='Data_NA'\n",
        "    else:\n",
        "      ke='Data_' + j\n",
        "    temp2=temp[ke].tolist()\n",
        "    nfle+=temp2\n",
        "nfle=np.array(nfle)\n",
        "np.savetxt('/content/drive/MyDrive/FYP/A1_A2_A3_B_data/Data_combine/nfle1.csv', nfle, delimiter=',')"
      ],
      "metadata": {
        "id": "PMEKLjVxYYhX"
      },
      "execution_count": null,
      "outputs": []
    },
    {
      "cell_type": "code",
      "source": [
        "# balance_1\n",
        "nfle= np.loadtxt('/content/drive/MyDrive/FYP/A1_A2_A3_B_data/Data_combine/nfle1.csv', delimiter=',')\n",
        "\n",
        "a=np.shape(np.where(nfle[:,1024]==0))[1]\n",
        "b=np.shape(np.where(nfle[:,1024]==1))[1]\n",
        "c=np.shape(np.where(nfle[:,1024]==2))[1]\n",
        "d=np.shape(np.where(nfle[:,1024]==3))[1]\n",
        "m=min(a,b,c,d)\n",
        "\n",
        "bal_all = np.zeros([m*6,1025],dtype=float)\n",
        "rows = np.where(nfle[:,1024]==0)\n",
        "bal_all[0:m*3,0:1024] = nfle[rows][0:m*3,0:1024]\n",
        "rows = np.where(nfle[:,1024]==1)\n",
        "bal_all[m*3:m*4,0:1024] = nfle[rows][0:m,0:1024]\n",
        "rows = np.where(nfle[:,1024]==2)\n",
        "bal_all[m*4:m*5,0:1024] = nfle[rows][0:m,0:1024]\n",
        "rows = np.where(nfle[:,1024]==3)\n",
        "bal_all[m*5:m*6,0:1024] = nfle[rows][0:m,0:1024]\n",
        "bal_all[3*m:6*m,-1]=1\n",
        "\n",
        "np.savetxt('/content/drive/MyDrive/FYP/A1_A2_A3_B_data/Data_csv/bal_nfle1.csv', bal_all, delimiter=',')"
      ],
      "metadata": {
        "id": "TeLfRECCluym"
      },
      "execution_count": null,
      "outputs": []
    },
    {
      "cell_type": "code",
      "source": [
        "# combine_2\n",
        "nfle_string=['12','13','14','15','16','17','18','21']\n",
        "phase=['A1', 'A2', 'A3', 'B']\n",
        "nfle=[]\n",
        "for i in nfle_string:\n",
        "  for j in phase:\n",
        "    path='/content/drive/MyDrive/FYP/A1_A2_A3_B_data/Data/nfle' + i + '_' + j + '_C4A1.mat'\n",
        "    temp=scipy.io.loadmat(path)\n",
        "    if j=='B':\n",
        "      ke='Data_NA'\n",
        "    else:\n",
        "      ke='Data_' + j\n",
        "    temp2=temp[ke].tolist()\n",
        "    nfle+=temp2\n",
        "nfle=np.array(nfle)\n",
        "np.savetxt('/content/drive/MyDrive/FYP/A1_A2_A3_B_data/Data_combine/nfle2.csv', nfle, delimiter=',')"
      ],
      "metadata": {
        "id": "PbaFhUdfYZ6u"
      },
      "execution_count": null,
      "outputs": []
    },
    {
      "cell_type": "code",
      "source": [
        "# balance_2\n",
        "nfle= np.loadtxt('/content/drive/MyDrive/FYP/A1_A2_A3_B_data/Data_combine/nfle2.csv', delimiter=',')\n",
        "\n",
        "a=np.shape(np.where(nfle[:,1024]==0))[1]\n",
        "b=np.shape(np.where(nfle[:,1024]==1))[1]\n",
        "c=np.shape(np.where(nfle[:,1024]==2))[1]\n",
        "d=np.shape(np.where(nfle[:,1024]==3))[1]\n",
        "m=min(a,b,c,d)\n",
        "\n",
        "bal_all = np.zeros([m*6,1025],dtype=float)\n",
        "rows = np.where(nfle[:,1024]==0)\n",
        "bal_all[0:m*3,0:1024] = nfle[rows][0:m*3,0:1024]\n",
        "rows = np.where(nfle[:,1024]==1)\n",
        "bal_all[m*3:m*4,0:1024] = nfle[rows][0:m,0:1024]\n",
        "rows = np.where(nfle[:,1024]==2)\n",
        "bal_all[m*4:m*5,0:1024] = nfle[rows][0:m,0:1024]\n",
        "rows = np.where(nfle[:,1024]==3)\n",
        "bal_all[m*5:m*6,0:1024] = nfle[rows][0:m,0:1024]\n",
        "bal_all[3*m:6*m,-1]=1\n",
        "\n",
        "np.savetxt('/content/drive/MyDrive/FYP/A1_A2_A3_B_data/Data_csv/bal_nfle2.csv', bal_all, delimiter=',')"
      ],
      "metadata": {
        "id": "6cMi2ocHmOjt"
      },
      "execution_count": null,
      "outputs": []
    },
    {
      "cell_type": "code",
      "source": [
        "# combine_3\n",
        "nfle_string=['22','24','28','29','30','32','34']\n",
        "phase=['A1', 'A2', 'A3', 'B']\n",
        "nfle=[]\n",
        "for i in nfle_string:\n",
        "  for j in phase:\n",
        "    path='/content/drive/MyDrive/FYP/A1_A2_A3_B_data/Data/nfle' + i + '_' + j + '_C4A1.mat'\n",
        "    temp=scipy.io.loadmat(path)\n",
        "    if j=='B':\n",
        "      ke='Data_NA'\n",
        "    else:\n",
        "      ke='Data_' + j\n",
        "    temp2=temp[ke].tolist()\n",
        "    nfle+=temp2\n",
        "nfle=np.array(nfle)\n",
        "\n",
        "np.savetxt('/content/drive/MyDrive/FYP/A1_A2_A3_B_data/Data_combine/nfle3.csv', nfle, delimiter=',')"
      ],
      "metadata": {
        "id": "dTIBUJ8EYbka"
      },
      "execution_count": null,
      "outputs": []
    },
    {
      "cell_type": "code",
      "source": [
        "# balance_3\n",
        "nfle= np.loadtxt('/content/drive/MyDrive/FYP/A1_A2_A3_B_data/Data_combine/nfle3.csv', delimiter=',')\n",
        "\n",
        "a=np.shape(np.where(nfle[:,1024]==0))[1]\n",
        "b=np.shape(np.where(nfle[:,1024]==1))[1]\n",
        "c=np.shape(np.where(nfle[:,1024]==2))[1]\n",
        "d=np.shape(np.where(nfle[:,1024]==3))[1]\n",
        "m=min(a,b,c,d)\n",
        "\n",
        "bal_all = np.zeros([m*6,1025],dtype=float)\n",
        "rows = np.where(nfle[:,1024]==0)\n",
        "bal_all[0:m*3,0:1024] = nfle[rows][0:m*3,0:1024]\n",
        "rows = np.where(nfle[:,1024]==1)\n",
        "bal_all[m*3:m*4,0:1024] = nfle[rows][0:m,0:1024]\n",
        "rows = np.where(nfle[:,1024]==2)\n",
        "bal_all[m*4:m*5,0:1024] = nfle[rows][0:m,0:1024]\n",
        "rows = np.where(nfle[:,1024]==3)\n",
        "bal_all[m*5:m*6,0:1024] = nfle[rows][0:m,0:1024]\n",
        "bal_all[3*m:6*m,-1]=1\n",
        "\n",
        "np.savetxt('/content/drive/MyDrive/FYP/A1_A2_A3_B_data/Data_csv/bal_nfle3.csv', bal_all, delimiter=',')"
      ],
      "metadata": {
        "id": "aCtMtO0OmVII"
      },
      "execution_count": null,
      "outputs": []
    },
    {
      "cell_type": "code",
      "source": [
        "# combine_4\n",
        "nfle_string=['35','36','37','38','39','40']\n",
        "phase=['A1', 'A2', 'A3', 'B']\n",
        "nfle=[]\n",
        "for i in nfle_string:\n",
        "  for j in phase:\n",
        "    path='/content/drive/MyDrive/FYP/A1_A2_A3_B_data/Data/nfle' + i + '_' + j + '_C4A1.mat'\n",
        "    temp=scipy.io.loadmat(path)\n",
        "    if j=='B':\n",
        "      ke='Data_NA'\n",
        "    else:\n",
        "      ke='Data_' + j\n",
        "    temp2=temp[ke].tolist()\n",
        "    nfle+=temp2\n",
        "nfle=np.array(nfle)\n",
        "\n",
        "np.savetxt('/content/drive/MyDrive/FYP/A1_A2_A3_B_data/Data_combine/nfle4.csv', nfle, delimiter=',')"
      ],
      "metadata": {
        "id": "lJRXhQtDYpe7"
      },
      "execution_count": null,
      "outputs": []
    },
    {
      "cell_type": "code",
      "source": [
        "# balance_4\n",
        "nfle= np.loadtxt('/content/drive/MyDrive/FYP/A1_A2_A3_B_data/Data_combine/nfle4.csv', delimiter=',')\n",
        "\n",
        "a=np.shape(np.where(nfle[:,1024]==0))[1]\n",
        "b=np.shape(np.where(nfle[:,1024]==1))[1]\n",
        "c=np.shape(np.where(nfle[:,1024]==2))[1]\n",
        "d=np.shape(np.where(nfle[:,1024]==3))[1]\n",
        "m=min(a,b,c,d)\n",
        "\n",
        "bal_all = np.zeros([m*6,1025],dtype=float)\n",
        "rows = np.where(nfle[:,1024]==0)\n",
        "bal_all[0:m*3,0:1024] = nfle[rows][0:m*3,0:1024]\n",
        "rows = np.where(nfle[:,1024]==1)\n",
        "bal_all[m*3:m*4,0:1024] = nfle[rows][0:m,0:1024]\n",
        "rows = np.where(nfle[:,1024]==2)\n",
        "bal_all[m*4:m*5,0:1024] = nfle[rows][0:m,0:1024]\n",
        "rows = np.where(nfle[:,1024]==3)\n",
        "bal_all[m*5:m*6,0:1024] = nfle[rows][0:m,0:1024]\n",
        "bal_all[3*m:6*m,-1]=1\n",
        "\n",
        "np.savetxt('/content/drive/MyDrive/FYP/A1_A2_A3_B_data/Data_csv/bal_nfle4.csv', bal_all, delimiter=',')"
      ],
      "metadata": {
        "id": "s7AbtF1Dmas1"
      },
      "execution_count": null,
      "outputs": []
    },
    {
      "cell_type": "code",
      "source": [
        "# overall combine and balanced\n",
        "nfle1=np.loadtxt('/content/drive/MyDrive/FYP/A1_A2_A3_B_data/Data_csv/bal_nfle1.csv', delimiter=',')\n",
        "nfle2=np.loadtxt('/content/drive/MyDrive/FYP/A1_A2_A3_B_data/Data_csv/bal_nfle2.csv', delimiter=',')\n",
        "nfle3=np.loadtxt('/content/drive/MyDrive/FYP/A1_A2_A3_B_data/Data_csv/bal_nfle3.csv', delimiter=',')\n",
        "nfle4=np.loadtxt('/content/drive/MyDrive/FYP/A1_A2_A3_B_data/Data_csv/bal_nfle4.csv', delimiter=',')\n",
        "\n",
        "s1=np.shape(nfle1)[0]\n",
        "s2=np.shape(nfle2)[0]\n",
        "s3=np.shape(nfle3)[0]\n",
        "s4=np.shape(nfle4)[0]\n",
        "\n",
        "nfle=np.empty([s1+s2+s3+s4,1025],dtype=float)\n",
        "nfle[0:s1,:]=nfle1\n",
        "nfle[s1:s1+s2,:]=nfle2\n",
        "nfle[s1+s2:s1+s2+s3,:]=nfle3\n",
        "nfle[s1+s2+s3:s1+s2+s3+s4,:]=nfle4\n",
        "\n",
        "np.savetxt('/content/drive/MyDrive/FYP/A1_A2_A3_B_data/Data_csv/bal_nfle.csv', nfle, delimiter=',')"
      ],
      "metadata": {
        "id": "nq3on8AgYxcs"
      },
      "execution_count": null,
      "outputs": []
    },
    {
      "cell_type": "markdown",
      "source": [
        "## Narcolepsy"
      ],
      "metadata": {
        "id": "8tnwdf4SeWy4"
      }
    },
    {
      "cell_type": "code",
      "source": [
        "narco_string=[ '1','2', '3','4', '5']\n",
        "phase=['A1', 'A2', 'A3', 'B']\n",
        "narco=[]\n",
        "for i in narco_string:\n",
        "  for j in phase:\n",
        "    path='/content/drive/MyDrive/FYP/A1_A2_A3_B_data/Data/narco' + i + '_' + j + '_C4A1.mat'\n",
        "    temp=scipy.io.loadmat(path)\n",
        "    if j=='B':\n",
        "      ke='Data_NA'\n",
        "    else:\n",
        "      ke='Data_' + j\n",
        "    temp2=temp[ke].tolist()\n",
        "    narco+=temp2\n",
        "narco=np.array(narco)\n",
        "np.savetxt('/content/drive/MyDrive/FYP/A1_A2_A3_B_data/Data_combine/narco.csv', narco, delimiter=',')"
      ],
      "metadata": {
        "id": "mg-ypHuleWVh"
      },
      "execution_count": null,
      "outputs": []
    },
    {
      "cell_type": "code",
      "source": [
        "# balance\n",
        "narco= np.loadtxt('/content/drive/MyDrive/FYP/A1_A2_A3_B_data/Data_combine/narco.csv', delimiter=',')\n",
        "\n",
        "a=np.shape(np.where(narco[:,1024]==0))[1]\n",
        "b=np.shape(np.where(narco[:,1024]==1))[1]\n",
        "c=np.shape(np.where(narco[:,1024]==2))[1]\n",
        "d=np.shape(np.where(narco[:,1024]==3))[1]\n",
        "m=min(a,b,c,d)\n",
        "\n",
        "bal_all = np.zeros([m*6,1025],dtype=float)\n",
        "rows = np.where(narco[:,1024]==0)\n",
        "bal_all[0:m*3,0:1024] = narco[rows][0:m*3,0:1024]\n",
        "rows = np.where(narco[:,1024]==1)\n",
        "bal_all[m*3:m*4,0:1024] = narco[rows][0:m,0:1024]\n",
        "rows = np.where(narco[:,1024]==2)\n",
        "bal_all[m*4:m*5,0:1024] = narco[rows][0:m,0:1024]\n",
        "rows = np.where(narco[:,1024]==3)\n",
        "bal_all[m*5:m*6,0:1024] = narco[rows][0:m,0:1024]\n",
        "bal_all[3*m:6*m,-1]=1\n",
        "\n",
        "np.savetxt('/content/drive/MyDrive/FYP/A1_A2_A3_B_data/Data_csv/bal_narco.csv', bal_all, delimiter=',')"
      ],
      "metadata": {
        "id": "I_OOMU9_ZJdR"
      },
      "execution_count": null,
      "outputs": []
    }
  ]
}